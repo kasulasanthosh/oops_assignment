{
 "cells": [
  {
   "cell_type": "code",
   "execution_count": 15,
   "id": "93125839-c254-41f3-8e98-72cd6becc25e",
   "metadata": {},
   "outputs": [],
   "source": [
    "'''Problem 1: Bank Account Create a class representing a bank account with attributes like account number, account holder name, and balance. \n",
    "Implement methods to deposit and withdraw money from the account.'''\n",
    "class Bankaccount:\n",
    "    def __init__(self,account_number,account_holder_name,balance):\n",
    "        self.accountnumber=account_number\n",
    "        self.account_name=account_holder_name\n",
    "        self.balance=balance\n",
    "    def deposit(self,amount):\n",
    "        self.balance+=amount\n",
    "        print(\"the balance amount after deposit:\",self.balance)\n",
    "    def withdraw(self,amount):\n",
    "        if(amount>self.balance):\n",
    "            print(\"insufficient balance\")\n",
    "        else:\n",
    "            self.balance-=amount\n",
    "            print(\"tha balance amount after withdraw:\",self.balance)\n",
    "    def customerdetails(self):\n",
    "        print(\"Account holder name:\",self.account_name)\n",
    "        print(\"Account number:\",self.accountnumber)\n",
    "        print(\"Balance amount:\",self.balance)"
   ]
  },
  {
   "cell_type": "code",
   "execution_count": 16,
   "id": "8da08236-a602-4c52-9c13-c1da1da7dc78",
   "metadata": {},
   "outputs": [],
   "source": [
    "account1=Bankaccount(123456789,\"santhosh\",2000)\n",
    "account2=Bankaccount(987654321,\"pavithra\",5000)\n",
    "account3=Bankaccount(456789321,\"ashwath\",8000)\n",
    "account4=Bankaccount(963258741,\"srinikha\",9000)"
   ]
  },
  {
   "cell_type": "code",
   "execution_count": 17,
   "id": "9b5ed471-5ca1-4eb3-9572-efc213cb89a9",
   "metadata": {},
   "outputs": [
    {
     "name": "stdout",
     "output_type": "stream",
     "text": [
      "the balance amount after deposit: 12000\n",
      "the balance amount after deposit: 13000\n"
     ]
    }
   ],
   "source": [
    "account1.deposit(10000)\n",
    "account3.deposit(5000)"
   ]
  },
  {
   "cell_type": "code",
   "execution_count": 18,
   "id": "cf6f5702-15b3-4c9f-bed3-cdca030c07ab",
   "metadata": {},
   "outputs": [
    {
     "name": "stdout",
     "output_type": "stream",
     "text": [
      "tha balance amount after withdraw: 6000\n"
     ]
    }
   ],
   "source": [
    "account4.withdraw(3000)"
   ]
  },
  {
   "cell_type": "code",
   "execution_count": 19,
   "id": "f28b4fd8-4317-402e-9683-c19af96ef5b1",
   "metadata": {},
   "outputs": [
    {
     "name": "stdout",
     "output_type": "stream",
     "text": [
      "Account holder name: pavithra\n",
      "Account number: 987654321\n",
      "Balance amount: 5000\n"
     ]
    }
   ],
   "source": [
    "account2.customerdetails()"
   ]
  },
  {
   "cell_type": "code",
   "execution_count": 53,
   "id": "dcf984cf-e55e-4bf9-ac90-e460d447d17b",
   "metadata": {},
   "outputs": [],
   "source": [
    "'''Problem 2: Employee Management Create a class representing an employee with attributes like employee ID, name, and salary. \n",
    "Implement methods to calculate the yearly bonus and display employee details.'''\n",
    "class Employee:\n",
    "    def __init__(self,emp_id,name,salary):\n",
    "        self.Emp_Id=emp_id\n",
    "        self.Emp_name=name\n",
    "        self.Emp_salary=salary\n",
    "    def Emp_bonus(self):\n",
    "        if(self.Emp_salary<25000):\n",
    "            bonus=self.Emp_salary*0.20\n",
    "            self.Emp_salary=self.Emp_salary+bonus\n",
    "            print(\"The Gross salary is:\",self.Emp_salary)\n",
    "        else:\n",
    "            bonus=self.Emp_salary*0.15\n",
    "            self.Emp_salary=self.Emp_salary+bonus\n",
    "            print(\"The Gross salary is:\",self.Emp_salary)\n",
    "    def emp_details(self):\n",
    "        print(\" Employee Id :\",self.Emp_Id)\n",
    "        print(\" Employee Name:\",self.Emp_name)\n",
    "        print(\"Employee salary:\",self.Emp_salary)\n",
    "    "
   ]
  },
  {
   "cell_type": "code",
   "execution_count": 54,
   "id": "f34c46af-1700-4cca-ae02-ea74e13a9730",
   "metadata": {},
   "outputs": [],
   "source": [
    "emp1=Employee(123,\"santhosh\",80000)\n",
    "emp2=Employee(456,\"sathish\",50000)\n",
    "emp3=Employee(789,\"pavan\",24000)"
   ]
  },
  {
   "cell_type": "code",
   "execution_count": 55,
   "id": "c357c336-629d-49cd-8cc0-59cbb2e910fd",
   "metadata": {},
   "outputs": [
    {
     "name": "stdout",
     "output_type": "stream",
     "text": [
      "The Gross salary is: 57500.0\n"
     ]
    }
   ],
   "source": [
    "emp2.Emp_bonus()"
   ]
  },
  {
   "cell_type": "code",
   "execution_count": 56,
   "id": "1d374a84-2e8c-406f-a2e6-2a647310690d",
   "metadata": {},
   "outputs": [
    {
     "name": "stdout",
     "output_type": "stream",
     "text": [
      " Employee Id : 123\n",
      " Employee Name: santhosh\n",
      "Employee salary: 80000\n"
     ]
    }
   ],
   "source": [
    "emp1.emp_details()"
   ]
  },
  {
   "cell_type": "code",
   "execution_count": 58,
   "id": "2decb698-d96f-4850-a153-df206c4b391e",
   "metadata": {},
   "outputs": [
    {
     "name": "stdout",
     "output_type": "stream",
     "text": [
      " Employee Id : 456\n",
      " Employee Name: sathish\n",
      "Employee salary: 57500.0\n"
     ]
    }
   ],
   "source": [
    "emp2.emp_details()"
   ]
  },
  {
   "cell_type": "code",
   "execution_count": 57,
   "id": "6aa0ff33-ea6c-4793-9b2c-af04e0277ab1",
   "metadata": {},
   "outputs": [],
   "source": [
    "'''Problem 3: Vehicle Rental Create a class representing a vehicle rental system. \n",
    "Implement methods to rent a vehicle, return a vehicle, and display available vehicles.'''\n",
    "class vehicle:\n",
    "    def __init__(self):\n",
    "        self.car=[]\n",
    "        self.ret_vehicle=[]\n",
    "    def add_car(self,car_type,Fuel):\n",
    "        self.car.append(car_type)\n",
    "    def rent_vehicle(self,req_vehicle):\n",
    "        if req_vehicle in self.car:\n",
    "            print(\"The vechicle is in rent\",req_vehicle)\n",
    "            self.car.remove(req_vehicle)\n",
    "            self.ret_vehicle.append(req_vehicle)\n",
    "        else:\n",
    "            print(\"The vehicle is not available\")\n",
    "    def return_vehicle(self):\n",
    "        self.car+=self.ret_vehicle\n",
    "    def available_veh(self):\n",
    "        for veh in self.car:\n",
    "            print(veh)\n",
    "    "
   ]
  },
  {
   "cell_type": "code",
   "execution_count": 58,
   "id": "0785358c-cdbc-4ebd-b2d8-dadbea4e294e",
   "metadata": {},
   "outputs": [],
   "source": [
    "veh1=vehicle()"
   ]
  },
  {
   "cell_type": "code",
   "execution_count": 59,
   "id": "d9b083df-512a-4179-b094-ea7f8e4631f4",
   "metadata": {},
   "outputs": [],
   "source": [
    "veh1.add_car(\"SUV\",\"Diesel\")"
   ]
  },
  {
   "cell_type": "code",
   "execution_count": 60,
   "id": "e97aec4f-3ce6-4c89-9afd-1cd12c11e90a",
   "metadata": {},
   "outputs": [],
   "source": [
    "veh1.add_car(\"Swift\",\"Petrol\")"
   ]
  },
  {
   "cell_type": "code",
   "execution_count": 61,
   "id": "37e9b0be-f0b1-4305-89a4-e2777ceaf0b6",
   "metadata": {},
   "outputs": [],
   "source": [
    "veh1.add_car(\"Santro\",\"Petrol\")"
   ]
  },
  {
   "cell_type": "code",
   "execution_count": 62,
   "id": "a1534745-fbc2-4081-b225-b832b9e34dbe",
   "metadata": {},
   "outputs": [],
   "source": [
    "veh1.add_car(\"Alto\",\"Petrol\")"
   ]
  },
  {
   "cell_type": "code",
   "execution_count": 63,
   "id": "30174b2b-41ba-4f5e-8de5-2fb7a7f50d81",
   "metadata": {},
   "outputs": [
    {
     "name": "stdout",
     "output_type": "stream",
     "text": [
      "SUV\n",
      "Swift\n",
      "Santro\n",
      "Alto\n"
     ]
    }
   ],
   "source": [
    "veh1.available_veh()"
   ]
  },
  {
   "cell_type": "code",
   "execution_count": 64,
   "id": "ca4ada2b-3277-4961-b73f-c356a8e55184",
   "metadata": {},
   "outputs": [
    {
     "name": "stdout",
     "output_type": "stream",
     "text": [
      "The vechicle is in rent SUV\n"
     ]
    }
   ],
   "source": [
    "veh1.rent_vehicle(\"SUV\")"
   ]
  },
  {
   "cell_type": "code",
   "execution_count": 65,
   "id": "48b59ba1-3096-4bd1-a13a-947918831e5e",
   "metadata": {},
   "outputs": [
    {
     "name": "stdout",
     "output_type": "stream",
     "text": [
      "The vechicle is in rent Alto\n"
     ]
    }
   ],
   "source": [
    "veh1.rent_vehicle(\"Alto\")"
   ]
  },
  {
   "cell_type": "code",
   "execution_count": 66,
   "id": "01fd33bc-2d0f-4a61-a8a7-e626908e870a",
   "metadata": {},
   "outputs": [
    {
     "name": "stdout",
     "output_type": "stream",
     "text": [
      "Swift\n",
      "Santro\n"
     ]
    }
   ],
   "source": [
    "veh1.available_veh()"
   ]
  },
  {
   "cell_type": "code",
   "execution_count": 68,
   "id": "9892b404-0407-461d-9b4a-aadfc0125d00",
   "metadata": {},
   "outputs": [],
   "source": [
    "veh1.return_vehicle()"
   ]
  },
  {
   "cell_type": "code",
   "execution_count": 69,
   "id": "ea10222b-7735-4597-8551-d4b402b6b91e",
   "metadata": {},
   "outputs": [
    {
     "name": "stdout",
     "output_type": "stream",
     "text": [
      "Swift\n",
      "Santro\n",
      "SUV\n",
      "Alto\n"
     ]
    }
   ],
   "source": [
    "veh1.available_veh()"
   ]
  },
  {
   "cell_type": "code",
   "execution_count": 1,
   "id": "1aeabe54-16bd-4769-b86b-59e5c891330f",
   "metadata": {},
   "outputs": [],
   "source": [
    "'''Problem 4: Library Catalog Create classes representing a library and a book.\n",
    "Implement methods to add books to the library, borrow books, and display available books.'''\n",
    "class library:\n",
    "    def __init__(self):\n",
    "        self.books=[]\n",
    "    def add_book(self,new_book):\n",
    "        self.books.append(new_book)\n",
    "    def borrow_books(self,requested_book):\n",
    "        if requested_book in self.books:\n",
    "            print(\"You have now borrowed\",requested_book)\n",
    "            self.books.remove(requested_book)\n",
    "        else:\n",
    "            print(\"sorry the book is not there in library\")\n",
    "    def available_books(self):\n",
    "        if self.books:\n",
    "            print(\"the books are available in the library\")\n",
    "            for book in self.books:\n",
    "                print(book)\n",
    "        else:\n",
    "            print(\"the books are not available in the library at the moment\")"
   ]
  },
  {
   "cell_type": "code",
   "execution_count": 2,
   "id": "f104e726-2a64-438d-b927-829c2d784eca",
   "metadata": {},
   "outputs": [],
   "source": [
    "sreyas=library()"
   ]
  },
  {
   "cell_type": "code",
   "execution_count": 3,
   "id": "cf7cd233-3bc1-442f-9e05-668aa8660276",
   "metadata": {},
   "outputs": [],
   "source": [
    "sreyas.add_book(\"python programming\")"
   ]
  },
  {
   "cell_type": "code",
   "execution_count": 4,
   "id": "1e2e3cc3-7a40-4943-b7dd-ea0889ab778d",
   "metadata": {},
   "outputs": [],
   "source": [
    "sreyas.add_book(\"Data Science\")"
   ]
  },
  {
   "cell_type": "code",
   "execution_count": 6,
   "id": "dcbc1ab2-714c-4e18-92cf-ec8aeb09cf28",
   "metadata": {},
   "outputs": [],
   "source": [
    "sreyas.add_book(\"Machine Learning\")"
   ]
  },
  {
   "cell_type": "code",
   "execution_count": 13,
   "id": "6fc1a201-82ff-4abe-9bda-55d1d9093493",
   "metadata": {},
   "outputs": [
    {
     "name": "stdout",
     "output_type": "stream",
     "text": [
      "the books are available in the library\n",
      "Data Science\n",
      "Machine Learning\n"
     ]
    }
   ],
   "source": [
    "sreyas.available_books()"
   ]
  },
  {
   "cell_type": "code",
   "execution_count": 8,
   "id": "add902a1-133c-4a9d-925e-17ee62ab8e3b",
   "metadata": {},
   "outputs": [
    {
     "name": "stdout",
     "output_type": "stream",
     "text": [
      "You have now borrowed python programming\n"
     ]
    }
   ],
   "source": [
    "sreyas.borrow_books(\"python programming\")"
   ]
  },
  {
   "cell_type": "code",
   "execution_count": 9,
   "id": "a6cd89bd-7a36-47e7-93b1-4f27c53219c7",
   "metadata": {},
   "outputs": [
    {
     "name": "stdout",
     "output_type": "stream",
     "text": [
      "the books are available in the library\n",
      "Data Science\n",
      "Machine Learning\n"
     ]
    }
   ],
   "source": [
    "sreyas.available_books()"
   ]
  },
  {
   "cell_type": "code",
   "execution_count": 10,
   "id": "c76bdbf4-4793-4d03-adb9-20f8411a27bd",
   "metadata": {},
   "outputs": [
    {
     "name": "stdout",
     "output_type": "stream",
     "text": [
      "sorry the book is not there in library\n"
     ]
    }
   ],
   "source": [
    "sreyas.borrow_books(\"Deep learning\")"
   ]
  },
  {
   "cell_type": "code",
   "execution_count": 139,
   "id": "6ef3a67b-0dc7-46b9-a122-3d858d10bb37",
   "metadata": {},
   "outputs": [],
   "source": [
    "'''Problem 5: Product Inventory Create classes representing a product and an inventory system. \n",
    "Implement methods to add products to the inventory, update product quantity, and display available products.'''\n",
    "class Inventory:\n",
    "    def __init__(self):\n",
    "        self.items={}\n",
    "    def add_products(self,item_id,item_name,item_price,stock_count):\n",
    "        self.items[item_id]={\"item_name\":item_name,\"item_price\":item_price,\"count\":stock_count}\n",
    "    def update_quantity(self,item_id,stock_count,price):\n",
    "        if item_id in self.items:\n",
    "            self.items[item_id][\"count\"]=stock_count\n",
    "            self.items[item_id][\"item_price\"]=price\n",
    "        else:\n",
    "            print(\"the item is not found in inventory\")\n",
    "    def avalilable_items(self,item_id):\n",
    "        if item_id in self.items:\n",
    "            item=self.items[item_id]\n",
    "            return f\"product name:{item['item_name']},stock count:{item['count']},price:{item['item_price']}\"\n",
    "        else:\n",
    "            return \"item is not found on inventory\""
   ]
  },
  {
   "cell_type": "code",
   "execution_count": 140,
   "id": "ec030d49-d4ca-48e6-8155-09c7585a8fb1",
   "metadata": {},
   "outputs": [],
   "source": [
    "invent=Inventory()"
   ]
  },
  {
   "cell_type": "code",
   "execution_count": 141,
   "id": "64fb0903-43ca-42da-8987-e75e5a93856b",
   "metadata": {},
   "outputs": [],
   "source": [
    "invent.add_products(101,\"Laptop\",25000,5)"
   ]
  },
  {
   "cell_type": "code",
   "execution_count": 142,
   "id": "9c6a0524-2c03-4d69-9c11-25f4dbf7ae26",
   "metadata": {},
   "outputs": [
    {
     "data": {
      "text/plain": [
       "{101: {'item_name': 'Laptop', 'item_price': 25000, 'count': 5}}"
      ]
     },
     "execution_count": 142,
     "metadata": {},
     "output_type": "execute_result"
    }
   ],
   "source": [
    "invent.items"
   ]
  },
  {
   "cell_type": "code",
   "execution_count": 143,
   "id": "c9a7741c-eddc-495d-8488-11e4bbd017a1",
   "metadata": {},
   "outputs": [],
   "source": [
    "invent.add_products(102,\"pendrive\",500,50)"
   ]
  },
  {
   "cell_type": "code",
   "execution_count": 144,
   "id": "7bc93552-8da1-4d98-9273-00a38a91446c",
   "metadata": {},
   "outputs": [],
   "source": [
    "invent.update_quantity(101,25,60000)"
   ]
  },
  {
   "cell_type": "code",
   "execution_count": 145,
   "id": "ebdb216f-8f68-43de-84ad-e49af0fd3c3d",
   "metadata": {},
   "outputs": [
    {
     "data": {
      "text/plain": [
       "{101: {'item_name': 'Laptop', 'item_price': 60000, 'count': 25},\n",
       " 102: {'item_name': 'pendrive', 'item_price': 500, 'count': 50}}"
      ]
     },
     "execution_count": 145,
     "metadata": {},
     "output_type": "execute_result"
    }
   ],
   "source": [
    "invent.items"
   ]
  },
  {
   "cell_type": "code",
   "execution_count": 146,
   "id": "b696cea9-6b31-420e-a16e-166c484667f0",
   "metadata": {},
   "outputs": [
    {
     "data": {
      "text/plain": [
       "'product name:Laptop,stock count:25,price:60000'"
      ]
     },
     "execution_count": 146,
     "metadata": {},
     "output_type": "execute_result"
    }
   ],
   "source": [
    "invent.avalilable_items(101)"
   ]
  },
  {
   "cell_type": "code",
   "execution_count": 10,
   "id": "5d1d2b0b-3377-46d6-96cb-59c92916e722",
   "metadata": {},
   "outputs": [],
   "source": [
    "'''Problem 6: Shape Calculation Create a class representing a shape with attributes like length, width, and height. \n",
    "Implement methods to calculate the area and perimeter of the shape.'''\n",
    "class shape:\n",
    "    def __init__(self,length,width,height):\n",
    "        self.length=length\n",
    "        self.width=width\n",
    "        self.height=height\n",
    "    def area(self):\n",
    "        area_rectangle=self.length*self.width\n",
    "        area_square=self.length*self.length\n",
    "        print(\"The area of rectangle is:\",area_rectangle)\n",
    "        print(\"The area of square is:\",area_square)\n",
    "    def perimeter(self):\n",
    "        perimeter_rectangle=2*(self.length+self.width)\n",
    "        perimeter_square=4*self.length\n",
    "        print(\"The perimeter of rectangle is:\",perimeter_rectangle)\n",
    "        print(\"The perimeter of square is:\",perimeter_square)\n",
    "        "
   ]
  },
  {
   "cell_type": "code",
   "execution_count": 12,
   "id": "6f6696f7-1f04-44da-ad6d-36fda9133fb3",
   "metadata": {},
   "outputs": [],
   "source": [
    "shape1=shape(11,12,13)"
   ]
  },
  {
   "cell_type": "code",
   "execution_count": 13,
   "id": "99261833-6f0c-46c0-88bd-a62085fd3d0d",
   "metadata": {},
   "outputs": [
    {
     "name": "stdout",
     "output_type": "stream",
     "text": [
      "The area of rectangle is: 132\n",
      "The area of square is: 121\n"
     ]
    }
   ],
   "source": [
    "shape1.area()"
   ]
  },
  {
   "cell_type": "code",
   "execution_count": 14,
   "id": "6c62a04d-443e-4aef-b31c-4247f03efab6",
   "metadata": {},
   "outputs": [
    {
     "name": "stdout",
     "output_type": "stream",
     "text": [
      "The perimeter of rectangle is: 46\n",
      "The perimeter of square is: 44\n"
     ]
    }
   ],
   "source": [
    "shape1.perimeter()"
   ]
  },
  {
   "cell_type": "code",
   "execution_count": 1,
   "id": "e462c18d-968d-4589-a425-b9eee4d82cad",
   "metadata": {},
   "outputs": [],
   "source": [
    "'''Problem 7: Student Management Create a class representing a student with attributes like student ID, name, and grades. \n",
    "Implement methods to calculate the average grade and display student details.'''\n",
    "class student:\n",
    "    def __init__(self,std_id,std_name,sub1_m,sub2_m,sub3_m,sub4_m,sub5_m):\n",
    "        self.id=std_id\n",
    "        self.name=std_name\n",
    "        self.m1=sub1_m\n",
    "        self.m2=sub2_m\n",
    "        self.m3=sub3_m\n",
    "        self.m4=sub4_m\n",
    "        self.m5=sub5_m\n",
    "        total=self.m1+self.m2+self.m3+self.m4+self.m5\n",
    "        self.avg=total/5\n",
    "    def avg_grade(self):\n",
    "        if self.avg>=90:\n",
    "            return \"A+\"\n",
    "        elif 80<=self.avg<89:\n",
    "            return \"A\"\n",
    "        elif 70<=self.avg<79:\n",
    "            return \"B+\"\n",
    "        elif 60<=self.avg<69:\n",
    "             return \"B\"\n",
    "        elif 50<=self.avg<59:\n",
    "            return \"C\"\n",
    "        else:\n",
    "            return Fail\n",
    "    def student_details(self):\n",
    "        print(\"Student ID:\",self.id)\n",
    "        print(\"Student Name:\",self.name)\n",
    "        print(\"Studnet Grade:\",self.avg_grade())\n",
    "            "
   ]
  },
  {
   "cell_type": "code",
   "execution_count": 2,
   "id": "76c56c16-cdcb-4bf1-b664-db76df17075e",
   "metadata": {},
   "outputs": [],
   "source": [
    "std1=student(101,\"santhosh\",56,65,89,43,52)"
   ]
  },
  {
   "cell_type": "code",
   "execution_count": 3,
   "id": "6c67fa68-705d-442b-a752-21181fa42568",
   "metadata": {},
   "outputs": [],
   "source": [
    "std2=student(102,\"praveen\",65,34,38,95,96)"
   ]
  },
  {
   "cell_type": "code",
   "execution_count": 4,
   "id": "f50d1406-4dcd-427b-a660-853e8a7a81f1",
   "metadata": {},
   "outputs": [
    {
     "data": {
      "text/plain": [
       "61.0"
      ]
     },
     "execution_count": 4,
     "metadata": {},
     "output_type": "execute_result"
    }
   ],
   "source": [
    "std1.avg"
   ]
  },
  {
   "cell_type": "code",
   "execution_count": 5,
   "id": "337f9cbf-dd79-4923-8e49-ac008b205466",
   "metadata": {},
   "outputs": [
    {
     "data": {
      "text/plain": [
       "'B'"
      ]
     },
     "execution_count": 5,
     "metadata": {},
     "output_type": "execute_result"
    }
   ],
   "source": [
    "std1.avg_grade()"
   ]
  },
  {
   "cell_type": "code",
   "execution_count": 6,
   "id": "ef1343f7-3cce-4816-9ced-47f24b380810",
   "metadata": {},
   "outputs": [
    {
     "data": {
      "text/plain": [
       "65.6"
      ]
     },
     "execution_count": 6,
     "metadata": {},
     "output_type": "execute_result"
    }
   ],
   "source": [
    "std2.avg"
   ]
  },
  {
   "cell_type": "code",
   "execution_count": 8,
   "id": "f06f3c00-6119-421f-9720-40046209c6d1",
   "metadata": {},
   "outputs": [
    {
     "name": "stdout",
     "output_type": "stream",
     "text": [
      "Student ID: 101\n",
      "Student Name: santhosh\n",
      "Studnet Grade: B\n"
     ]
    }
   ],
   "source": [
    "std1.student_details()"
   ]
  },
  {
   "cell_type": "code",
   "execution_count": 9,
   "id": "1f96fe03-7359-4d07-aaa9-86d606792d11",
   "metadata": {},
   "outputs": [
    {
     "name": "stdout",
     "output_type": "stream",
     "text": [
      "Student ID: 102\n",
      "Student Name: praveen\n",
      "Studnet Grade: B\n"
     ]
    }
   ],
   "source": [
    "std2.student_details()"
   ]
  },
  {
   "cell_type": "code",
   "execution_count": 72,
   "id": "1f00df8e-4d5c-43ee-ba81-381c6ec26f5a",
   "metadata": {},
   "outputs": [],
   "source": [
    "'''Problem 8: Email Management Create a class representing an email with attributes like sender, recipient, and subject. \n",
    "Implement methods to send an email and display email details.'''\n",
    "class Email:\n",
    "    def __init__(self,sender,recipient,sub):\n",
    "        self.sender=sender\n",
    "        self.recipient=recipient\n",
    "        self.subject=sub\n",
    "    def send_email(self):\n",
    "        print(\"Enter the email of the sender:\")  \n",
    "        self.sender = input()\n",
    "        print(\"Enter the email of the receiver:\")  \n",
    "        self.recipient = input()\n",
    "        print(\"Enter the Subject of the sending email:\")  \n",
    "        self.subject = input()     \n",
    "    def display_email(self):\n",
    "        print(\"The sender email :\",self.sender)\n",
    "        print(\"The receiver email :\",self.recipient)\n",
    "        print(\"The email subject :\",self.subject)"
   ]
  },
  {
   "cell_type": "code",
   "execution_count": 73,
   "id": "b0108d74-2839-4003-a6c1-a6853c4bc34f",
   "metadata": {},
   "outputs": [],
   "source": [
    "email1=Email(\"santhosh@gmail.com\",\"xyz@gmail.com\",\"hello\")"
   ]
  },
  {
   "cell_type": "code",
   "execution_count": 74,
   "id": "7ba02e65-f4e0-419c-86c6-79bed6e46320",
   "metadata": {},
   "outputs": [],
   "source": [
    "email2=Email(\"pwskill@gmail.com\",\"san1984@gmail.com\",\"to day class at 9am\")"
   ]
  },
  {
   "cell_type": "code",
   "execution_count": 75,
   "id": "0dc834e5-a832-4b4a-ba16-07fc521f8d9f",
   "metadata": {},
   "outputs": [
    {
     "name": "stdout",
     "output_type": "stream",
     "text": [
      "The sender email : santhosh@gmail.com\n",
      "The receiver email : xyz@gmail.com\n",
      "The email subject : hello\n"
     ]
    }
   ],
   "source": [
    "email1.display_email()"
   ]
  },
  {
   "cell_type": "code",
   "execution_count": 76,
   "id": "9c6d9972-8205-467e-a523-4198b82d03c4",
   "metadata": {},
   "outputs": [
    {
     "name": "stdout",
     "output_type": "stream",
     "text": [
      "The sender email : pwskill@gmail.com\n",
      "The receiver email : san1984@gmail.com\n",
      "The email subject : to day class at 9am\n"
     ]
    }
   ],
   "source": [
    "email2.display_email()"
   ]
  },
  {
   "cell_type": "code",
   "execution_count": 18,
   "id": "6cf70e12-f1ce-4b85-ae8d-4b5d1540b118",
   "metadata": {},
   "outputs": [],
   "source": [
    "'''Problem 9: Social Media Profile Create a class representing a social media profile with attributes like username and posts.\n",
    "Implement methods to add posts, display posts, and search for posts by keyword.'''\n",
    "class social_media:\n",
    "    def __init__(self,username,post):\n",
    "        self.user_name=username\n",
    "        self.post=[]\n",
    "    def add_post(self,post1):\n",
    "        self.post.append(post1)\n",
    "    def display_post(self):\n",
    "        print(self.post)"
   ]
  },
  {
   "cell_type": "code",
   "execution_count": 19,
   "id": "3cf7dfab-bfe8-4c14-b811-431f7f40a6fe",
   "metadata": {},
   "outputs": [],
   "source": [
    "user1=social_media(\"santhosh\",\"hello\")"
   ]
  },
  {
   "cell_type": "code",
   "execution_count": 20,
   "id": "97d2c2c4-b28a-4754-bb11-3a4a4a665098",
   "metadata": {},
   "outputs": [],
   "source": [
    "user1.add_post(\"hi\")"
   ]
  },
  {
   "cell_type": "code",
   "execution_count": 22,
   "id": "ec1887fe-e578-461d-b27a-c1fdd3ecba96",
   "metadata": {},
   "outputs": [
    {
     "name": "stdout",
     "output_type": "stream",
     "text": [
      "['hi']\n"
     ]
    }
   ],
   "source": [
    "user1.display_post()"
   ]
  },
  {
   "cell_type": "code",
   "execution_count": 23,
   "id": "7b7ac3cb-d9db-483e-a921-17c23abc8eb2",
   "metadata": {},
   "outputs": [],
   "source": [
    "user1.add_post(\"hello\")"
   ]
  },
  {
   "cell_type": "code",
   "execution_count": 24,
   "id": "91e72e50-8ccd-48ab-b509-631ab58df01b",
   "metadata": {},
   "outputs": [
    {
     "name": "stdout",
     "output_type": "stream",
     "text": [
      "['hi', 'hello']\n"
     ]
    }
   ],
   "source": [
    "user1.display_post()"
   ]
  },
  {
   "cell_type": "code",
   "execution_count": 65,
   "id": "afbb302e-2054-494c-99bc-1526992c3267",
   "metadata": {},
   "outputs": [],
   "source": [
    "'''Problem 10: ToDo List Create a class representing a ToDo list with attributes like tasks and due dates.\n",
    "Implement methods to add tasks, mark tasks as completed, and display pending tasks.'''\n",
    "class todolist:\n",
    "    def __init__(self):\n",
    "        self.task=[]\n",
    "        self.due_date=[]\n",
    "    def add_task(self,task_name,due_date):\n",
    "        self.task.append(task_name)\n",
    "        self.due_date.append(due_date)\n",
    "    def task_complete(self,task_name):\n",
    "        self.task.remove(task_name)\n",
    "    def pending_task(self):\n",
    "        return self.task"
   ]
  },
  {
   "cell_type": "code",
   "execution_count": 66,
   "id": "6f676ed0-81c2-4a4e-8528-b04d083bcd94",
   "metadata": {},
   "outputs": [],
   "source": [
    "todo=todolist()"
   ]
  },
  {
   "cell_type": "code",
   "execution_count": 67,
   "id": "67c7945b-6092-4709-9534-8c5f406d10fd",
   "metadata": {},
   "outputs": [],
   "source": [
    "todo.add_task(\"meeting\",\"16-10-2023\")"
   ]
  },
  {
   "cell_type": "code",
   "execution_count": 68,
   "id": "f36df161-b8f2-45ec-b1a2-af57707f66de",
   "metadata": {},
   "outputs": [
    {
     "data": {
      "text/plain": [
       "['meeting']"
      ]
     },
     "execution_count": 68,
     "metadata": {},
     "output_type": "execute_result"
    }
   ],
   "source": [
    "todo.pending_task()"
   ]
  },
  {
   "cell_type": "code",
   "execution_count": 69,
   "id": "7144d45c-f1bd-40b2-88f4-7a335535a6d8",
   "metadata": {},
   "outputs": [],
   "source": [
    "todo.add_task(\"class\",\"24-10-2023\")"
   ]
  },
  {
   "cell_type": "code",
   "execution_count": 70,
   "id": "164133bf-a88c-4729-aa93-549b5bc9598e",
   "metadata": {},
   "outputs": [],
   "source": [
    "todo.add_task(\"get together\",\"25-10-2023\")"
   ]
  },
  {
   "cell_type": "code",
   "execution_count": 71,
   "id": "19f58786-8734-4a47-b536-f5379d0b0311",
   "metadata": {},
   "outputs": [
    {
     "data": {
      "text/plain": [
       "['meeting', 'class', 'get together']"
      ]
     },
     "execution_count": 71,
     "metadata": {},
     "output_type": "execute_result"
    }
   ],
   "source": [
    "todo.pending_task()"
   ]
  },
  {
   "cell_type": "code",
   "execution_count": 72,
   "id": "aca77e3f-d765-42d1-bc2f-a14e1579b525",
   "metadata": {},
   "outputs": [],
   "source": [
    "todo.task_complete(\"class\")"
   ]
  },
  {
   "cell_type": "code",
   "execution_count": 73,
   "id": "fd2e056c-a52b-48b9-8979-e22bf0308533",
   "metadata": {},
   "outputs": [
    {
     "data": {
      "text/plain": [
       "['meeting', 'get together']"
      ]
     },
     "execution_count": 73,
     "metadata": {},
     "output_type": "execute_result"
    }
   ],
   "source": [
    "todo.pending_task()"
   ]
  },
  {
   "cell_type": "code",
   "execution_count": null,
   "id": "32dc0946-f071-48e4-a5bc-5285d4b8b36f",
   "metadata": {},
   "outputs": [],
   "source": []
  },
  {
   "cell_type": "code",
   "execution_count": null,
   "id": "b1165a24-67af-4965-97ee-ce8c908a10f5",
   "metadata": {},
   "outputs": [],
   "source": []
  }
 ],
 "metadata": {
  "kernelspec": {
   "display_name": "Python 3 (ipykernel)",
   "language": "python",
   "name": "python3"
  },
  "language_info": {
   "codemirror_mode": {
    "name": "ipython",
    "version": 3
   },
   "file_extension": ".py",
   "mimetype": "text/x-python",
   "name": "python",
   "nbconvert_exporter": "python",
   "pygments_lexer": "ipython3",
   "version": "3.10.8"
  }
 },
 "nbformat": 4,
 "nbformat_minor": 5
}
